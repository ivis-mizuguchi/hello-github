{
 "cells": [
  {
   "cell_type": "markdown",
   "id": "b36e1e21-e38a-4385-91c7-942458decbc1",
   "metadata": {
    "tags": []
   },
   "source": [
    "# 国土交通省の不動産価格情報を使った簡単なデータ分析\n",
    "## 参考ページ\n",
    "\n",
    "- [ハンズオンで学ぶPythonを用いた簡単な統計学](https://data.nifcloud.com/blog/study_python-statistics/)\n"
   ]
  },
  {
   "cell_type": "markdown",
   "id": "ff04fd43-0ac8-4dd1-b68f-491b70be4d50",
   "metadata": {},
   "source": [
    "## データのダウンロード\n",
    "https://www.land.mlit.go.jp/webland/download.html から2021年第1四半期の東京都文京区の不動産の取引価格情報をダウンロード  \n",
    "ダウンロードした13105_20211_20211.csvファイルをノートブックファイルと同じ階層に配置"
   ]
  },
  {
   "cell_type": "markdown",
   "id": "3e5b286a-d6fe-48a9-b298-e16bf2c662ad",
   "metadata": {},
   "source": [
    "## 文字化け対策  "
   ]
  },
  {
   "cell_type": "code",
   "execution_count": null,
   "id": "bf209071-099c-4baa-845c-1e065949f5f4",
   "metadata": {},
   "outputs": [],
   "source": [
    "import japanize_matplotlib"
   ]
  },
  {
   "cell_type": "markdown",
   "id": "aeb1629d-02b1-49b2-860d-82d5c8cf8c52",
   "metadata": {},
   "source": [
    "## データ解析用ライブラリPandasのインストール"
   ]
  },
  {
   "cell_type": "markdown",
   "id": "1333187a-b349-46c2-9295-a6a20712d61e",
   "metadata": {},
   "source": [
    "## pandasを使って取引価格データをロードしてデータの先頭5行を表示する"
   ]
  },
  {
   "cell_type": "code",
   "execution_count": null,
   "id": "8605a7f4-11a7-4c93-913f-023dec72a49a",
   "metadata": {},
   "outputs": [],
   "source": [
    "import pandas as pd\n",
    "pd.set_option('display.max_columns', 100)\n",
    "df = pd.read_csv('13105_20211_20211.csv', encoding='CP932')\n",
    "df.head(5)"
   ]
  },
  {
   "cell_type": "markdown",
   "id": "ac97a5c5-9b70-45bb-bebf-aa8480cf6f35",
   "metadata": {},
   "source": [
    "## データの特徴を要約して表す要約統計量を表示する"
   ]
  },
  {
   "cell_type": "code",
   "execution_count": null,
   "id": "a057f92d-e833-412f-9db1-6761ff8bfbbe",
   "metadata": {},
   "outputs": [],
   "source": [
    "df.describe()"
   ]
  },
  {
   "cell_type": "markdown",
   "id": "731399ee-4f30-49b4-b4af-34408474fe15",
   "metadata": {},
   "source": [
    "## 種類を「中古マンション等」に絞って要約統計量を表示する"
   ]
  },
  {
   "cell_type": "code",
   "execution_count": null,
   "id": "168ba62d-b6be-48ba-a579-24f17fb1f96c",
   "metadata": {},
   "outputs": [],
   "source": [
    "df = df[df[\"種類\"] == \"中古マンション等\"]\n",
    "df.describe()"
   ]
  },
  {
   "cell_type": "markdown",
   "id": "bb189150-ff7d-43de-81f4-67ac99d50993",
   "metadata": {},
   "source": [
    "## 面積のヒストグラムを作成する"
   ]
  },
  {
   "cell_type": "markdown",
   "id": "7a7e08fe-9336-449a-993b-7caca9cfbb79",
   "metadata": {},
   "source": [
    "### データ可視化ライブラリseabornをインストールする"
   ]
  },
  {
   "cell_type": "code",
   "execution_count": null,
   "id": "bb6d9a67-d098-492e-9988-b0310ad1ffc1",
   "metadata": {},
   "outputs": [],
   "source": [
    "import seaborn as sns\n",
    "%matplotlib inline\n",
    "sns.histplot(df[\"面積（㎡）\"] , bins=10)"
   ]
  },
  {
   "cell_type": "markdown",
   "id": "8b636341-9433-4cfd-95fe-2163e8355ae7",
   "metadata": {},
   "source": [
    "## 面積と取引価格の散布図を表示する"
   ]
  },
  {
   "cell_type": "code",
   "execution_count": null,
   "id": "c1148ce5-ac75-41a9-a89c-a6f413a2d3c2",
   "metadata": {},
   "outputs": [],
   "source": [
    "sns.scatterplot(data=df, x='面積（㎡）', y='取引価格（総額）')"
   ]
  }
 ],
 "metadata": {
  "kernelspec": {
   "display_name": "Python 3 (ipykernel)",
   "language": "python",
   "name": "python3"
  },
  "language_info": {
   "codemirror_mode": {
    "name": "ipython",
    "version": 3
   },
   "file_extension": ".py",
   "mimetype": "text/x-python",
   "name": "python",
   "nbconvert_exporter": "python",
   "pygments_lexer": "ipython3",
   "version": "3.7.10"
  }
 },
 "nbformat": 4,
 "nbformat_minor": 5
}
