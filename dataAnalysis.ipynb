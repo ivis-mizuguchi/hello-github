{
 "cells": [
  {
   "cell_type": "markdown",
   "id": "b36e1e21-e38a-4385-91c7-942458decbc1",
   "metadata": {
    "jupyter": {
     "source_hidden": true
    },
    "tags": []
   },
   "source": [
    "# 国土交通省の不動産価格情報を使った簡単なデータ分析\n",
    "## 参考ページ\n",
    "\n",
    "- [ハンズオンで学ぶPythonを用いた簡単な統計学](https://data.nifcloud.com/blog/study_python-statistics/)\n"
   ]
  },
  {
   "cell_type": "markdown",
   "id": "ff04fd43-0ac8-4dd1-b68f-491b70be4d50",
   "metadata": {},
   "source": [
    "## データのダウンロード\n",
    "https://www.land.mlit.go.jp/webland/download.html から2021年第1四半期の東京都文京区の不動産の取引価格情報をダウンロード  \n",
    "ダウンロードした13105_20211_20211.csvファイルをノートブックファイルと同じ階層に配置"
   ]
  },
  {
   "cell_type": "markdown",
   "id": "3e5b286a-d6fe-48a9-b298-e16bf2c662ad",
   "metadata": {},
   "source": [
    "## 文字化け対策  "
   ]
  },
  {
   "cell_type": "code",
   "execution_count": null,
   "id": "bf209071-099c-4baa-845c-1e065949f5f4",
   "metadata": {},
   "outputs": [],
   "source": [
    "pip install -U japanize_matplotlib\n",
    "import japanize_matplotlib"
   ]
  },
  {
   "cell_type": "markdown",
   "id": "aeb1629d-02b1-49b2-860d-82d5c8cf8c52",
   "metadata": {},
   "source": [
    "## データ解析用ライブラリPandasのインストール"
   ]
  },
  {
   "cell_type": "code",
   "execution_count": 2,
   "id": "bbbcb7b4-e07e-4a7d-9800-efeb6240dacc",
   "metadata": {},
   "outputs": [
    {
     "name": "stdout",
     "output_type": "stream",
     "text": [
      "Requirement already satisfied: pandas in /srv/conda/envs/notebook/lib/python3.7/site-packages (1.3.4)\n",
      "Requirement already satisfied: numpy>=1.17.3 in /srv/conda/envs/notebook/lib/python3.7/site-packages (from pandas) (1.21.3)\n",
      "Requirement already satisfied: pytz>=2017.3 in /srv/conda/envs/notebook/lib/python3.7/site-packages (from pandas) (2021.3)\n",
      "Requirement already satisfied: python-dateutil>=2.7.3 in /srv/conda/envs/notebook/lib/python3.7/site-packages (from pandas) (2.8.2)\n",
      "Requirement already satisfied: six>=1.5 in /srv/conda/envs/notebook/lib/python3.7/site-packages (from python-dateutil>=2.7.3->pandas) (1.16.0)\n",
      "Note: you may need to restart the kernel to use updated packages.\n"
     ]
    }
   ],
   "source": [
    "pip install pandas"
   ]
  },
  {
   "cell_type": "markdown",
   "id": "1333187a-b349-46c2-9295-a6a20712d61e",
   "metadata": {},
   "source": [
    "## pandasを使って取引価格データをロードしてデータの先頭5行を表示する"
   ]
  },
  {
   "cell_type": "code",
   "execution_count": 2,
   "id": "8605a7f4-11a7-4c93-913f-023dec72a49a",
   "metadata": {},
   "outputs": [
    {
     "ename": "ModuleNotFoundError",
     "evalue": "No module named 'pandas'",
     "output_type": "error",
     "traceback": [
      "\u001b[0;31m---------------------------------------------------------------------------\u001b[0m",
      "\u001b[0;31mModuleNotFoundError\u001b[0m                       Traceback (most recent call last)",
      "\u001b[0;32m/tmp/ipykernel_67/391538080.py\u001b[0m in \u001b[0;36m<module>\u001b[0;34m\u001b[0m\n\u001b[0;32m----> 1\u001b[0;31m \u001b[0;32mimport\u001b[0m \u001b[0mpandas\u001b[0m \u001b[0;32mas\u001b[0m \u001b[0mpd\u001b[0m\u001b[0;34m\u001b[0m\u001b[0;34m\u001b[0m\u001b[0m\n\u001b[0m\u001b[1;32m      2\u001b[0m \u001b[0mpd\u001b[0m\u001b[0;34m.\u001b[0m\u001b[0mset_option\u001b[0m\u001b[0;34m(\u001b[0m\u001b[0;34m'display.max_columns'\u001b[0m\u001b[0;34m,\u001b[0m \u001b[0;36m100\u001b[0m\u001b[0;34m)\u001b[0m\u001b[0;34m\u001b[0m\u001b[0;34m\u001b[0m\u001b[0m\n\u001b[1;32m      3\u001b[0m \u001b[0mdf\u001b[0m \u001b[0;34m=\u001b[0m \u001b[0mpd\u001b[0m\u001b[0;34m.\u001b[0m\u001b[0mread_csv\u001b[0m\u001b[0;34m(\u001b[0m\u001b[0;34m'13105_20211_20211.csv'\u001b[0m\u001b[0;34m,\u001b[0m \u001b[0mencoding\u001b[0m\u001b[0;34m=\u001b[0m\u001b[0;34m'CP932'\u001b[0m\u001b[0;34m)\u001b[0m\u001b[0;34m\u001b[0m\u001b[0;34m\u001b[0m\u001b[0m\n\u001b[1;32m      4\u001b[0m \u001b[0mdf\u001b[0m\u001b[0;34m.\u001b[0m\u001b[0mhead\u001b[0m\u001b[0;34m(\u001b[0m\u001b[0;36m5\u001b[0m\u001b[0;34m)\u001b[0m\u001b[0;34m\u001b[0m\u001b[0;34m\u001b[0m\u001b[0m\n",
      "\u001b[0;31mModuleNotFoundError\u001b[0m: No module named 'pandas'"
     ]
    }
   ],
   "source": [
    "import pandas as pd\n",
    "pd.set_option('display.max_columns', 100)\n",
    "df = pd.read_csv('13105_20211_20211.csv', encoding='CP932')\n",
    "df.head(5)"
   ]
  },
  {
   "cell_type": "markdown",
   "id": "ac97a5c5-9b70-45bb-bebf-aa8480cf6f35",
   "metadata": {},
   "source": [
    "## データの特徴を要約して表す要約統計量を表示する"
   ]
  },
  {
   "cell_type": "code",
   "execution_count": 4,
   "id": "a057f92d-e833-412f-9db1-6761ff8bfbbe",
   "metadata": {},
   "outputs": [
    {
     "data": {
      "text/html": [
       "<div>\n",
       "<style scoped>\n",
       "    .dataframe tbody tr th:only-of-type {\n",
       "        vertical-align: middle;\n",
       "    }\n",
       "\n",
       "    .dataframe tbody tr th {\n",
       "        vertical-align: top;\n",
       "    }\n",
       "\n",
       "    .dataframe thead th {\n",
       "        text-align: right;\n",
       "    }\n",
       "</style>\n",
       "<table border=\"1\" class=\"dataframe\">\n",
       "  <thead>\n",
       "    <tr style=\"text-align: right;\">\n",
       "      <th></th>\n",
       "      <th>No</th>\n",
       "      <th>市区町村コード</th>\n",
       "      <th>最寄駅：距離（分）</th>\n",
       "      <th>取引価格（総額）</th>\n",
       "      <th>坪単価</th>\n",
       "      <th>面積（㎡）</th>\n",
       "      <th>取引価格（㎡単価）</th>\n",
       "      <th>間口</th>\n",
       "      <th>延床面積（㎡）</th>\n",
       "      <th>前面道路：幅員（ｍ）</th>\n",
       "      <th>建ぺい率（％）</th>\n",
       "      <th>容積率（％）</th>\n",
       "    </tr>\n",
       "  </thead>\n",
       "  <tbody>\n",
       "    <tr>\n",
       "      <th>count</th>\n",
       "      <td>187.000000</td>\n",
       "      <td>187.0</td>\n",
       "      <td>187.000000</td>\n",
       "      <td>1.870000e+02</td>\n",
       "      <td>2.200000e+01</td>\n",
       "      <td>187.000000</td>\n",
       "      <td>2.200000e+01</td>\n",
       "      <td>45.00000</td>\n",
       "      <td>23.000000</td>\n",
       "      <td>45.000000</td>\n",
       "      <td>187.000000</td>\n",
       "      <td>187.000000</td>\n",
       "    </tr>\n",
       "    <tr>\n",
       "      <th>mean</th>\n",
       "      <td>94.000000</td>\n",
       "      <td>13105.0</td>\n",
       "      <td>5.181818</td>\n",
       "      <td>7.366738e+07</td>\n",
       "      <td>3.450000e+06</td>\n",
       "      <td>59.946524</td>\n",
       "      <td>1.034545e+06</td>\n",
       "      <td>7.84000</td>\n",
       "      <td>206.521739</td>\n",
       "      <td>6.142222</td>\n",
       "      <td>73.368984</td>\n",
       "      <td>432.085561</td>\n",
       "    </tr>\n",
       "    <tr>\n",
       "      <th>std</th>\n",
       "      <td>54.126395</td>\n",
       "      <td>0.0</td>\n",
       "      <td>2.768698</td>\n",
       "      <td>1.209229e+08</td>\n",
       "      <td>7.189609e+05</td>\n",
       "      <td>71.991616</td>\n",
       "      <td>2.150466e+05</td>\n",
       "      <td>5.18119</td>\n",
       "      <td>305.578567</td>\n",
       "      <td>5.192017</td>\n",
       "      <td>9.440686</td>\n",
       "      <td>145.681318</td>\n",
       "    </tr>\n",
       "    <tr>\n",
       "      <th>min</th>\n",
       "      <td>1.000000</td>\n",
       "      <td>13105.0</td>\n",
       "      <td>0.000000</td>\n",
       "      <td>9.300000e+06</td>\n",
       "      <td>2.200000e+06</td>\n",
       "      <td>15.000000</td>\n",
       "      <td>6.600000e+05</td>\n",
       "      <td>1.00000</td>\n",
       "      <td>50.000000</td>\n",
       "      <td>2.300000</td>\n",
       "      <td>60.000000</td>\n",
       "      <td>150.000000</td>\n",
       "    </tr>\n",
       "    <tr>\n",
       "      <th>25%</th>\n",
       "      <td>47.500000</td>\n",
       "      <td>13105.0</td>\n",
       "      <td>3.000000</td>\n",
       "      <td>2.300000e+07</td>\n",
       "      <td>3.050000e+06</td>\n",
       "      <td>20.000000</td>\n",
       "      <td>9.125000e+05</td>\n",
       "      <td>4.70000</td>\n",
       "      <td>72.500000</td>\n",
       "      <td>3.900000</td>\n",
       "      <td>60.000000</td>\n",
       "      <td>300.000000</td>\n",
       "    </tr>\n",
       "    <tr>\n",
       "      <th>50%</th>\n",
       "      <td>94.000000</td>\n",
       "      <td>13105.0</td>\n",
       "      <td>5.000000</td>\n",
       "      <td>5.000000e+07</td>\n",
       "      <td>3.450000e+06</td>\n",
       "      <td>50.000000</td>\n",
       "      <td>1.000000e+06</td>\n",
       "      <td>6.70000</td>\n",
       "      <td>95.000000</td>\n",
       "      <td>4.000000</td>\n",
       "      <td>80.000000</td>\n",
       "      <td>400.000000</td>\n",
       "    </tr>\n",
       "    <tr>\n",
       "      <th>75%</th>\n",
       "      <td>140.500000</td>\n",
       "      <td>13105.0</td>\n",
       "      <td>7.000000</td>\n",
       "      <td>7.650000e+07</td>\n",
       "      <td>3.850000e+06</td>\n",
       "      <td>70.000000</td>\n",
       "      <td>1.175000e+06</td>\n",
       "      <td>9.40000</td>\n",
       "      <td>150.000000</td>\n",
       "      <td>5.600000</td>\n",
       "      <td>80.000000</td>\n",
       "      <td>600.000000</td>\n",
       "    </tr>\n",
       "    <tr>\n",
       "      <th>max</th>\n",
       "      <td>187.000000</td>\n",
       "      <td>13105.0</td>\n",
       "      <td>12.000000</td>\n",
       "      <td>9.600000e+08</td>\n",
       "      <td>4.700000e+06</td>\n",
       "      <td>790.000000</td>\n",
       "      <td>1.400000e+06</td>\n",
       "      <td>27.60000</td>\n",
       "      <td>1400.000000</td>\n",
       "      <td>22.200000</td>\n",
       "      <td>80.000000</td>\n",
       "      <td>600.000000</td>\n",
       "    </tr>\n",
       "  </tbody>\n",
       "</table>\n",
       "</div>"
      ],
      "text/plain": [
       "               No  市区町村コード   最寄駅：距離（分）      取引価格（総額）           坪単価  \\\n",
       "count  187.000000    187.0  187.000000  1.870000e+02  2.200000e+01   \n",
       "mean    94.000000  13105.0    5.181818  7.366738e+07  3.450000e+06   \n",
       "std     54.126395      0.0    2.768698  1.209229e+08  7.189609e+05   \n",
       "min      1.000000  13105.0    0.000000  9.300000e+06  2.200000e+06   \n",
       "25%     47.500000  13105.0    3.000000  2.300000e+07  3.050000e+06   \n",
       "50%     94.000000  13105.0    5.000000  5.000000e+07  3.450000e+06   \n",
       "75%    140.500000  13105.0    7.000000  7.650000e+07  3.850000e+06   \n",
       "max    187.000000  13105.0   12.000000  9.600000e+08  4.700000e+06   \n",
       "\n",
       "            面積（㎡）     取引価格（㎡単価）        間口      延床面積（㎡）  前面道路：幅員（ｍ）  \\\n",
       "count  187.000000  2.200000e+01  45.00000    23.000000   45.000000   \n",
       "mean    59.946524  1.034545e+06   7.84000   206.521739    6.142222   \n",
       "std     71.991616  2.150466e+05   5.18119   305.578567    5.192017   \n",
       "min     15.000000  6.600000e+05   1.00000    50.000000    2.300000   \n",
       "25%     20.000000  9.125000e+05   4.70000    72.500000    3.900000   \n",
       "50%     50.000000  1.000000e+06   6.70000    95.000000    4.000000   \n",
       "75%     70.000000  1.175000e+06   9.40000   150.000000    5.600000   \n",
       "max    790.000000  1.400000e+06  27.60000  1400.000000   22.200000   \n",
       "\n",
       "          建ぺい率（％）      容積率（％）  \n",
       "count  187.000000  187.000000  \n",
       "mean    73.368984  432.085561  \n",
       "std      9.440686  145.681318  \n",
       "min     60.000000  150.000000  \n",
       "25%     60.000000  300.000000  \n",
       "50%     80.000000  400.000000  \n",
       "75%     80.000000  600.000000  \n",
       "max     80.000000  600.000000  "
      ]
     },
     "execution_count": 4,
     "metadata": {},
     "output_type": "execute_result"
    }
   ],
   "source": [
    "df.describe()"
   ]
  },
  {
   "cell_type": "markdown",
   "id": "731399ee-4f30-49b4-b4af-34408474fe15",
   "metadata": {},
   "source": [
    "## 種類を「中古マンション等」に絞って要約統計量を表示する"
   ]
  },
  {
   "cell_type": "code",
   "execution_count": 5,
   "id": "168ba62d-b6be-48ba-a579-24f17fb1f96c",
   "metadata": {},
   "outputs": [
    {
     "data": {
      "text/html": [
       "<div>\n",
       "<style scoped>\n",
       "    .dataframe tbody tr th:only-of-type {\n",
       "        vertical-align: middle;\n",
       "    }\n",
       "\n",
       "    .dataframe tbody tr th {\n",
       "        vertical-align: top;\n",
       "    }\n",
       "\n",
       "    .dataframe thead th {\n",
       "        text-align: right;\n",
       "    }\n",
       "</style>\n",
       "<table border=\"1\" class=\"dataframe\">\n",
       "  <thead>\n",
       "    <tr style=\"text-align: right;\">\n",
       "      <th></th>\n",
       "      <th>No</th>\n",
       "      <th>市区町村コード</th>\n",
       "      <th>最寄駅：距離（分）</th>\n",
       "      <th>取引価格（総額）</th>\n",
       "      <th>坪単価</th>\n",
       "      <th>面積（㎡）</th>\n",
       "      <th>取引価格（㎡単価）</th>\n",
       "      <th>間口</th>\n",
       "      <th>延床面積（㎡）</th>\n",
       "      <th>前面道路：幅員（ｍ）</th>\n",
       "      <th>建ぺい率（％）</th>\n",
       "      <th>容積率（％）</th>\n",
       "    </tr>\n",
       "  </thead>\n",
       "  <tbody>\n",
       "    <tr>\n",
       "      <th>count</th>\n",
       "      <td>140.000000</td>\n",
       "      <td>140.0</td>\n",
       "      <td>140.000000</td>\n",
       "      <td>1.400000e+02</td>\n",
       "      <td>0.0</td>\n",
       "      <td>140.000000</td>\n",
       "      <td>0.0</td>\n",
       "      <td>0.0</td>\n",
       "      <td>0.0</td>\n",
       "      <td>0.0</td>\n",
       "      <td>140.000000</td>\n",
       "      <td>140.000000</td>\n",
       "    </tr>\n",
       "    <tr>\n",
       "      <th>mean</th>\n",
       "      <td>94.621429</td>\n",
       "      <td>13105.0</td>\n",
       "      <td>5.035714</td>\n",
       "      <td>4.644857e+07</td>\n",
       "      <td>NaN</td>\n",
       "      <td>41.892857</td>\n",
       "      <td>NaN</td>\n",
       "      <td>NaN</td>\n",
       "      <td>NaN</td>\n",
       "      <td>NaN</td>\n",
       "      <td>75.857143</td>\n",
       "      <td>475.714286</td>\n",
       "    </tr>\n",
       "    <tr>\n",
       "      <th>std</th>\n",
       "      <td>55.544715</td>\n",
       "      <td>0.0</td>\n",
       "      <td>2.946552</td>\n",
       "      <td>3.232712e+07</td>\n",
       "      <td>NaN</td>\n",
       "      <td>25.050078</td>\n",
       "      <td>NaN</td>\n",
       "      <td>NaN</td>\n",
       "      <td>NaN</td>\n",
       "      <td>NaN</td>\n",
       "      <td>8.134279</td>\n",
       "      <td>123.859649</td>\n",
       "    </tr>\n",
       "    <tr>\n",
       "      <th>min</th>\n",
       "      <td>1.000000</td>\n",
       "      <td>13105.0</td>\n",
       "      <td>0.000000</td>\n",
       "      <td>9.300000e+06</td>\n",
       "      <td>NaN</td>\n",
       "      <td>15.000000</td>\n",
       "      <td>NaN</td>\n",
       "      <td>NaN</td>\n",
       "      <td>NaN</td>\n",
       "      <td>NaN</td>\n",
       "      <td>60.000000</td>\n",
       "      <td>150.000000</td>\n",
       "    </tr>\n",
       "    <tr>\n",
       "      <th>25%</th>\n",
       "      <td>45.250000</td>\n",
       "      <td>13105.0</td>\n",
       "      <td>3.000000</td>\n",
       "      <td>2.200000e+07</td>\n",
       "      <td>NaN</td>\n",
       "      <td>20.000000</td>\n",
       "      <td>NaN</td>\n",
       "      <td>NaN</td>\n",
       "      <td>NaN</td>\n",
       "      <td>NaN</td>\n",
       "      <td>80.000000</td>\n",
       "      <td>400.000000</td>\n",
       "    </tr>\n",
       "    <tr>\n",
       "      <th>50%</th>\n",
       "      <td>92.500000</td>\n",
       "      <td>13105.0</td>\n",
       "      <td>4.500000</td>\n",
       "      <td>3.500000e+07</td>\n",
       "      <td>NaN</td>\n",
       "      <td>35.000000</td>\n",
       "      <td>NaN</td>\n",
       "      <td>NaN</td>\n",
       "      <td>NaN</td>\n",
       "      <td>NaN</td>\n",
       "      <td>80.000000</td>\n",
       "      <td>500.000000</td>\n",
       "    </tr>\n",
       "    <tr>\n",
       "      <th>75%</th>\n",
       "      <td>142.250000</td>\n",
       "      <td>13105.0</td>\n",
       "      <td>7.000000</td>\n",
       "      <td>6.900000e+07</td>\n",
       "      <td>NaN</td>\n",
       "      <td>55.000000</td>\n",
       "      <td>NaN</td>\n",
       "      <td>NaN</td>\n",
       "      <td>NaN</td>\n",
       "      <td>NaN</td>\n",
       "      <td>80.000000</td>\n",
       "      <td>600.000000</td>\n",
       "    </tr>\n",
       "    <tr>\n",
       "      <th>max</th>\n",
       "      <td>187.000000</td>\n",
       "      <td>13105.0</td>\n",
       "      <td>12.000000</td>\n",
       "      <td>2.100000e+08</td>\n",
       "      <td>NaN</td>\n",
       "      <td>135.000000</td>\n",
       "      <td>NaN</td>\n",
       "      <td>NaN</td>\n",
       "      <td>NaN</td>\n",
       "      <td>NaN</td>\n",
       "      <td>80.000000</td>\n",
       "      <td>600.000000</td>\n",
       "    </tr>\n",
       "  </tbody>\n",
       "</table>\n",
       "</div>"
      ],
      "text/plain": [
       "               No  市区町村コード   最寄駅：距離（分）      取引価格（総額）  坪単価       面積（㎡）  \\\n",
       "count  140.000000    140.0  140.000000  1.400000e+02  0.0  140.000000   \n",
       "mean    94.621429  13105.0    5.035714  4.644857e+07  NaN   41.892857   \n",
       "std     55.544715      0.0    2.946552  3.232712e+07  NaN   25.050078   \n",
       "min      1.000000  13105.0    0.000000  9.300000e+06  NaN   15.000000   \n",
       "25%     45.250000  13105.0    3.000000  2.200000e+07  NaN   20.000000   \n",
       "50%     92.500000  13105.0    4.500000  3.500000e+07  NaN   35.000000   \n",
       "75%    142.250000  13105.0    7.000000  6.900000e+07  NaN   55.000000   \n",
       "max    187.000000  13105.0   12.000000  2.100000e+08  NaN  135.000000   \n",
       "\n",
       "       取引価格（㎡単価）   間口  延床面積（㎡）  前面道路：幅員（ｍ）     建ぺい率（％）      容積率（％）  \n",
       "count        0.0  0.0      0.0         0.0  140.000000  140.000000  \n",
       "mean         NaN  NaN      NaN         NaN   75.857143  475.714286  \n",
       "std          NaN  NaN      NaN         NaN    8.134279  123.859649  \n",
       "min          NaN  NaN      NaN         NaN   60.000000  150.000000  \n",
       "25%          NaN  NaN      NaN         NaN   80.000000  400.000000  \n",
       "50%          NaN  NaN      NaN         NaN   80.000000  500.000000  \n",
       "75%          NaN  NaN      NaN         NaN   80.000000  600.000000  \n",
       "max          NaN  NaN      NaN         NaN   80.000000  600.000000  "
      ]
     },
     "execution_count": 5,
     "metadata": {},
     "output_type": "execute_result"
    }
   ],
   "source": [
    "df = df[df[\"種類\"] == \"中古マンション等\"]\n",
    "df.describe()"
   ]
  },
  {
   "cell_type": "markdown",
   "id": "bb189150-ff7d-43de-81f4-67ac99d50993",
   "metadata": {},
   "source": [
    "## 面積のヒストグラムを作成する"
   ]
  },
  {
   "cell_type": "markdown",
   "id": "7a7e08fe-9336-449a-993b-7caca9cfbb79",
   "metadata": {},
   "source": [
    "### データ可視化ライブラリseabornをインストールする"
   ]
  },
  {
   "cell_type": "code",
   "execution_count": 6,
   "id": "1b13f4c1-1d43-4aa4-a3a0-f4a329e183fc",
   "metadata": {},
   "outputs": [
    {
     "name": "stdout",
     "output_type": "stream",
     "text": [
      "Requirement already satisfied: seaborn in /srv/conda/envs/notebook/lib/python3.7/site-packages (0.11.2)\n",
      "Requirement already satisfied: matplotlib>=2.2 in /srv/conda/envs/notebook/lib/python3.7/site-packages (from seaborn) (3.4.3)\n",
      "Requirement already satisfied: scipy>=1.0 in /srv/conda/envs/notebook/lib/python3.7/site-packages (from seaborn) (1.7.1)\n",
      "Requirement already satisfied: pandas>=0.23 in /srv/conda/envs/notebook/lib/python3.7/site-packages (from seaborn) (1.3.4)\n",
      "Requirement already satisfied: numpy>=1.15 in /srv/conda/envs/notebook/lib/python3.7/site-packages (from seaborn) (1.21.3)\n",
      "Requirement already satisfied: cycler>=0.10 in /srv/conda/envs/notebook/lib/python3.7/site-packages (from matplotlib>=2.2->seaborn) (0.10.0)\n",
      "Requirement already satisfied: pyparsing>=2.2.1 in /srv/conda/envs/notebook/lib/python3.7/site-packages (from matplotlib>=2.2->seaborn) (2.4.7)\n",
      "Requirement already satisfied: pillow>=6.2.0 in /srv/conda/envs/notebook/lib/python3.7/site-packages (from matplotlib>=2.2->seaborn) (8.4.0)\n",
      "Requirement already satisfied: python-dateutil>=2.7 in /srv/conda/envs/notebook/lib/python3.7/site-packages (from matplotlib>=2.2->seaborn) (2.8.2)\n",
      "Requirement already satisfied: kiwisolver>=1.0.1 in /srv/conda/envs/notebook/lib/python3.7/site-packages (from matplotlib>=2.2->seaborn) (1.3.2)\n",
      "Requirement already satisfied: pytz>=2017.3 in /srv/conda/envs/notebook/lib/python3.7/site-packages (from pandas>=0.23->seaborn) (2021.3)\n",
      "Requirement already satisfied: six in /srv/conda/envs/notebook/lib/python3.7/site-packages (from cycler>=0.10->matplotlib>=2.2->seaborn) (1.16.0)\n",
      "Note: you may need to restart the kernel to use updated packages.\n"
     ]
    }
   ],
   "source": [
    "pip install seaborn"
   ]
  },
  {
   "cell_type": "code",
   "execution_count": 7,
   "id": "bb6d9a67-d098-492e-9988-b0310ad1ffc1",
   "metadata": {},
   "outputs": [
    {
     "data": {
      "text/plain": [
       "<AxesSubplot:xlabel='面積（㎡）', ylabel='Count'>"
      ]
     },
     "execution_count": 7,
     "metadata": {},
     "output_type": "execute_result"
    },
    {
     "data": {
      "image/png": "[encoded data removed]",
      "text/plain": [
       "<Figure size 432x288 with 1 Axes>"
      ]
     },
     "metadata": {
      "needs_background": "light"
     },
     "output_type": "display_data"
    }
   ],
   "source": [
    "import seaborn as sns\n",
    "%matplotlib inline\n",
    "sns.histplot(df[\"面積（㎡）\"] , bins=10)"
   ]
  },
  {
   "cell_type": "markdown",
   "id": "8b636341-9433-4cfd-95fe-2163e8355ae7",
   "metadata": {},
   "source": [
    "## 面積と取引価格の散布図を表示する"
   ]
  },
  {
   "cell_type": "code",
   "execution_count": 8,
   "id": "c1148ce5-ac75-41a9-a89c-a6f413a2d3c2",
   "metadata": {},
   "outputs": [
    {
     "data": {
      "text/plain": [
       "<AxesSubplot:xlabel='面積（㎡）', ylabel='取引価格（総額）'>"
      ]
     },
     "execution_count": 8,
     "metadata": {},
     "output_type": "execute_result"
    },
    {
     "data": {
      "image/png": "[encoded data removed]",
      "text/plain": [
       "<Figure size 432x288 with 1 Axes>"
      ]
     },
     "metadata": {
      "needs_background": "light"
     },
     "output_type": "display_data"
    }
   ],
   "source": [
    "sns.scatterplot(data=df, x='面積（㎡）', y='取引価格（総額）')"
   ]
  }
 ],
 "metadata": {
  "kernelspec": {
   "display_name": "Python 3 (ipykernel)",
   "language": "python",
   "name": "python3"
  },
  "language_info": {
   "codemirror_mode": {
    "name": "ipython",
    "version": 3
   },
   "file_extension": ".py",
   "mimetype": "text/x-python",
   "name": "python",
   "nbconvert_exporter": "python",
   "pygments_lexer": "ipython3",
   "version": "3.7.10"
  }
 },
 "nbformat": 4,
 "nbformat_minor": 5
}
